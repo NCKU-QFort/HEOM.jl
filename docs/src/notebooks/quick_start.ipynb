{
 "cells": [
  {
   "cell_type": "markdown",
   "id": "06e7ec9e-582b-493b-a574-51908c50ced7",
   "metadata": {
    "tags": []
   },
   "source": [
    "# Quick Start\n",
    "\n",
    "(*This notebook can be found on* [github](https://github.com/NCKU-QFort/Heom.jl/tree/main/docs/src/notebooks))\n",
    "\n",
    "### Content\n",
    " - [Import Heom.jl](#Import-Heom.jl)\n",
    " - [System and Bath](#System-and-Bath)\n",
    " - [HEOM liouvillian superoperator](#HEOM-liouvillian-superoperator)\n",
    " - [Time Evolution](#Time-Evolution)\n",
    " - [Stationary State](#Stationary-State)\n",
    " - [Multiple Baths](#Multiple-Baths)"
   ]
  },
  {
   "cell_type": "markdown",
   "id": "c93b63e6-d88e-4383-aab6-40dca75c85bb",
   "metadata": {},
   "source": [
    "### Import Heom.jl\n",
    "Here are the functions in `Heom.jl` that we will use in this tutorial (Quick Start):"
   ]
  },
  {
   "cell_type": "code",
   "execution_count": null,
   "id": "4cedb029-8ef9-42e5-bf12-b1c467180987",
   "metadata": {
    "tags": []
   },
   "outputs": [],
   "source": [
    "import Heom: Boson_DrudeLorentz_Pade, M_Boson, evolution, SteadyState, getRho, BosonBath"
   ]
  },
  {
   "cell_type": "markdown",
   "id": "d889c87c-8486-48a1-ae3d-b4c5482098ca",
   "metadata": {},
   "source": [
    "Note that you can also type `using Heom` to import everything you need in `Heom.jl`."
   ]
  },
  {
   "cell_type": "markdown",
   "id": "cb87f74c-1421-4105-a531-8b57df8c7530",
   "metadata": {},
   "source": [
    "### System and Bath\n",
    "Let us consider a simple two-level system coupled to a Drude-Lorentz bosonic bath. The system Hamiltonian, $H_{sys}$, and the bath spectral density, $J_D$, are\n",
    "$$ H_{sys}=\\frac{\\epsilon \\sigma_z}{2} + \\frac{\\Delta \\sigma_x}{2} ~~\\text{and}$$  \n",
    "$$J_{D}(\\omega)=\\frac{2\\lambda W\\omega}{W^2+\\omega^2},$$"
   ]
  },
  {
   "cell_type": "markdown",
   "id": "149f0b48-e2c7-4351-a8cc-630d89234ba8",
   "metadata": {},
   "source": [
    "#### System Hamiltonian and initial state\n",
    "You can construct system hamiltonian, initial state, and coupling operators by standard julia bulit-in types: `Vector`, `SparseVector`, `Matrix`, `SparseMatrix`.\n",
    "\n",
    "Moreover, it is also convenient to use [QuantumOptics](https://qojulia.org/) framework. It provides many useful functions to create arbitrary quantum states and operators which can be combined in all the expected ways.\n",
    "\n",
    "Note that `Heom.jl` only accept standard julia bulit-in types. If you use `QuantumOptics` to construct the operators, remember that the matrix (or vector) in standard type are stored in `.data` field of the objects, i.e., `op.data` where `op` is a `QuantumOptics`-type object.  \n",
    "Thus, you should take it as the inputs of `Heom.jl` for objects in `QuantumOptics` package.\n",
    "\n",
    "We demonstrate this tutorial by `QuantumOptics`:"
   ]
  },
  {
   "cell_type": "code",
   "execution_count": null,
   "id": "0ccf8fd6-bd19-4986-88cf-399896bd31e8",
   "metadata": {},
   "outputs": [],
   "source": [
    "import QuantumOptics: SpinBasis, sigmaz, sigmax, ⊗, Ket, Bra"
   ]
  },
  {
   "cell_type": "code",
   "execution_count": null,
   "id": "beacd029-1f2e-48cc-ae89-ef0552e0f24c",
   "metadata": {},
   "outputs": [],
   "source": [
    "basis = SpinBasis(1//2)\n",
    "\n",
    "# The system Hamiltonian\n",
    "ϵ = 0.5 # energy of 2-level system\n",
    "Δ = 1.0 # tunneling term\n",
    "\n",
    "Hsys = 0.5 * ϵ * sigmaz(basis) + 0.5 * Δ * sigmax(basis)\n",
    "\n",
    "# System initial state\n",
    "ρ0 = Ket(basis, [1, 0]) ⊗ Bra(basis, [1, 0]);"
   ]
  },
  {
   "cell_type": "markdown",
   "id": "17637e2b-1431-417f-81aa-dd587cf33579",
   "metadata": {},
   "source": [
    "#### Bath Properties\n",
    "Now, we demonstrate how to describe the bath using the built-in implementation of $J_D(\\omega)$ under Pade expansion by calling [`Boson_DrudeLorentz_Pade`](@ref)"
   ]
  },
  {
   "cell_type": "code",
   "execution_count": null,
   "id": "da0b06d7-f42e-4994-a710-4249c46146ab",
   "metadata": {},
   "outputs": [],
   "source": [
    "λ = 0.1  # coupling strength\n",
    "W = 0.5  # cut-off frequency\n",
    "T = 0.5  # temperature\n",
    "\n",
    "# system-bath coupling operator\n",
    "Q = sigmaz(basis);\n",
    "\n",
    "# Number of expansion terms to retain:\n",
    "N = 2\n",
    "\n",
    "# Padé expansion:\n",
    "## Remember to give the operator in Standard matrix (AbstractMatrix) type\n",
    "## That is, if using QuantumOptics package, give system coupling operator as Q.data\n",
    "bath = Boson_DrudeLorentz_Pade(Q.data, λ, W, T, N);"
   ]
  },
  {
   "cell_type": "markdown",
   "id": "05433ef2-e7dd-412e-a890-e19590f22ea5",
   "metadata": {},
   "source": [
    "For other different expansions of the different spectral density correlation functions, please refer to [Bosonic Bath](@ref) and [Fermionic Bath](@ref)."
   ]
  },
  {
   "cell_type": "markdown",
   "id": "bd1c398f-029f-4182-aee9-9378a9db5f0e",
   "metadata": {},
   "source": [
    "### HEOM liouvillian superoperator\n",
    "For bosonic bath, we can construct the Heom liouvillian superoperator matrix by calling [`M_Boson`](@ref)"
   ]
  },
  {
   "cell_type": "code",
   "execution_count": null,
   "id": "74d0c32c-60c6-41a1-af5b-f18a364f8fd7",
   "metadata": {
    "tags": []
   },
   "outputs": [],
   "source": [
    "# maximum tier of hierarchy\n",
    "tier = 5\n",
    "\n",
    "# Remember to give the operator in Standard matrix (AbstractMatrix) type\n",
    "# That is, if using QuantumOptics package, give system hamiltonian as Hsys.data\n",
    "L = M_Boson(Hsys.data, tier, bath; verbose=false);"
   ]
  },
  {
   "cell_type": "markdown",
   "id": "6ee0559f-ebeb-4c28-afe3-9e7a02aa9e61",
   "metadata": {},
   "source": [
    "To learn more about the Heom liouvillian superoperator matrix (including other types: `M_Fermion`, `M_Boson_Fermion`), please refer to [HEOM Matrix](@ref)."
   ]
  },
  {
   "cell_type": "markdown",
   "id": "ccdeb300-2fa1-4627-85d9-346a25d652d0",
   "metadata": {
    "jupyter": {
     "outputs_hidden": true
    },
    "tags": []
   },
   "source": [
    "### Time Evolution\n",
    "Next, we can calculate the time evolution for the entire auxiliary density operators (ADOs) by calling [`evolution`](@ref)"
   ]
  },
  {
   "cell_type": "code",
   "execution_count": null,
   "id": "50db05f6-2697-454e-b63e-145a6fa62e09",
   "metadata": {},
   "outputs": [],
   "source": [
    "tlist = 0:0.2:50\n",
    "ados_list = evolution(L, ρ0.data, tlist; verbose=false);"
   ]
  },
  {
   "cell_type": "markdown",
   "id": "719a3983-86d3-47c9-9fcc-03af8fc864fc",
   "metadata": {},
   "source": [
    "To learn more about `evolution`, please refer to [Auxiliary Density Operators](@ref)."
   ]
  },
  {
   "cell_type": "markdown",
   "id": "8ae6ef93-035d-46a1-9a4d-91ce3e5f46f4",
   "metadata": {},
   "source": [
    "### Stationary State\n",
    "We can also solve the stationary state of the auxiliary density operators (ADOs) by calling [`SteadyState`](@ref)."
   ]
  },
  {
   "cell_type": "code",
   "execution_count": null,
   "id": "9ac98cfe-2c7f-4b82-83a2-c99f021458db",
   "metadata": {},
   "outputs": [],
   "source": [
    "ados_steady = SteadyState(L; verbose=false);"
   ]
  },
  {
   "cell_type": "markdown",
   "id": "91bc20ae-413f-49b0-855f-ba6f9e3b3178",
   "metadata": {},
   "source": [
    "To learn more about `SteadyState`, please refer to [Auxiliary Density Operators](@ref)."
   ]
  },
  {
   "cell_type": "markdown",
   "id": "2db23238-ea56-4d5d-bbad-5738a3518a90",
   "metadata": {},
   "source": [
    "#### Calculate population and coherence\n",
    "We can now compare the results obtained from `evolution` and `SteadyState`:"
   ]
  },
  {
   "cell_type": "code",
   "execution_count": null,
   "id": "8ca86f04-2b2a-4cee-8e46-04269a86b491",
   "metadata": {},
   "outputs": [],
   "source": [
    "import LinearAlgebra: tr  # import trace function"
   ]
  },
  {
   "cell_type": "code",
   "execution_count": null,
   "id": "c58b8500-427d-4093-8b1b-6d295e94e308",
   "metadata": {},
   "outputs": [],
   "source": [
    "# Define the operators that measure the populations of the two\n",
    "# system states:\n",
    "P00 = Ket(basis, [1, 0]) ⊗ Bra(basis, [1, 0])\n",
    "P11 = Ket(basis, [0, 1]) ⊗ Bra(basis, [0, 1])\n",
    "\n",
    "# Define the operator that measures the 0, 1 element of density matrix\n",
    "# (corresponding to coherence):\n",
    "P01 = Ket(basis, [1, 0]) ⊗ Bra(basis, [0, 1]);"
   ]
  },
  {
   "cell_type": "markdown",
   "id": "615d6e53-26e0-435e-8c66-856db68401f6",
   "metadata": {},
   "source": [
    "To obtain the reduced density operator, one can either access the first element of auxiliary density operator (`ADOs`) or call [`getRho`](@ref):"
   ]
  },
  {
   "cell_type": "code",
   "execution_count": null,
   "id": "7d1edc24-e295-48f5-bcc4-173576882b2d",
   "metadata": {
    "tags": []
   },
   "outputs": [],
   "source": [
    "# for steady state\n",
    "ρs = ados_steady[1]  # 1 represents the 1st auxiliary density operator (reduce state)\n",
    "p00_s = real(tr(P00.data * ρs))\n",
    "p01_s = real(tr(P01.data * ρs))\n",
    "\n",
    "# for time evolution\n",
    "p00_e = []\n",
    "p01_e = []\n",
    "for i in 1:length(tlist)\n",
    "    ρe = ados_list[i][1]\n",
    "    push!(p00_e, real(tr(P00.data * ρe)))\n",
    "    push!(p01_e, real(tr(P01.data * ρe)))\n",
    "end"
   ]
  },
  {
   "cell_type": "markdown",
   "id": "3d74afad-6d70-4c9a-bf75-c8b239c3aecc",
   "metadata": {},
   "source": [
    "One of the great features of `Heom.jl` is that we allow users to not only considering the density operator of the reduced\n",
    "state but also easily take high-order terms into account without struggling in finding the indices (see [Hierarchy Dictionary](@ref) for more details)."
   ]
  },
  {
   "cell_type": "markdown",
   "id": "dd8f50cf-7a34-4a6f-ba22-22e75265f3ba",
   "metadata": {},
   "source": [
    "#### Plot the results"
   ]
  },
  {
   "cell_type": "code",
   "execution_count": null,
   "id": "a4f20c67-b1af-43f2-8b7f-f9b9e5222563",
   "metadata": {},
   "outputs": [],
   "source": [
    "using Plots\n",
    "Plots.scalefontsizes(1.5)"
   ]
  },
  {
   "cell_type": "code",
   "execution_count": null,
   "id": "c62998ca-c614-46f4-93ee-4afba20ae58f",
   "metadata": {},
   "outputs": [],
   "source": [
    "p = plot(\n",
    "    tlist, \n",
    "    [\n",
    "        p00_e,\n",
    "        p01_e,\n",
    "        ones(length(tlist)) .* p00_s, \n",
    "        ones(length(tlist)) .* p01_s,\n",
    "    ],\n",
    "    label=[\"P00\" \"P01\" \"P00 (Steady State)\" \"P01 (Steady State)\"],\n",
    "    linecolor=[ :blue   :red :blue  :red],\n",
    "    linestyle=[:solid :solid :dash :dash],\n",
    "    xlabel=\"time\",\n",
    "    ylabel=\"Population\",\n",
    "    fontfamily=\"Computer Modern\",\n",
    "    linewidth=3, \n",
    "    grid=false,\n",
    "    dpi=300 \n",
    ")\n",
    "\n",
    "p"
   ]
  },
  {
   "cell_type": "markdown",
   "id": "958acea2-d842-4514-aae3-e3a7cf98a75c",
   "metadata": {},
   "source": [
    "### Multiple Baths\n",
    "`Heom.jl` also supports for system to interact with multiple baths.  \n",
    "All you need to do is to provide a list of baths instead of a single bath"
   ]
  },
  {
   "cell_type": "code",
   "execution_count": null,
   "id": "f547dfcc-22e0-4ac1-986d-a87fc09f56df",
   "metadata": {},
   "outputs": [],
   "source": [
    "# The system Hamiltonian\n",
    "Hsys = [\n",
    "    0.25 1.50 2.50;\n",
    "    1.50 0.75 3.50;\n",
    "    2.50 3.50 1.25\n",
    "]\n",
    "\n",
    "# System initial state\n",
    "ρ0 = [\n",
    "    1 0 0;\n",
    "    0 0 0;\n",
    "    0 0 0\n",
    "];\n",
    "\n",
    "# Construct one bath for each system state:\n",
    "## note that `BosonBath[]` make the list created in type: Vector{BosonBath}\n",
    "baths = BosonBath[]\n",
    "for i in 1:3\n",
    "    # system-bath coupling operator: |i><i|\n",
    "    Q = zeros(3, 3)\n",
    "    Q[i, i] = 1\n",
    "    \n",
    "    push!(baths, Boson_DrudeLorentz_Pade(Q, λ, W, T, N))\n",
    "end"
   ]
  },
  {
   "cell_type": "code",
   "execution_count": null,
   "id": "9fb43deb-566f-427b-8026-d867f25108a8",
   "metadata": {},
   "outputs": [],
   "source": [
    "L = M_Boson(Hsys, tier, baths; verbose=false);"
   ]
  },
  {
   "cell_type": "code",
   "execution_count": null,
   "id": "aec22775-67c3-4a2f-9e0d-ba444cd0557a",
   "metadata": {},
   "outputs": [],
   "source": [
    "tlist = 0:0.025:5\n",
    "ados_list = evolution(L, ρ0, tlist; verbose=false);"
   ]
  },
  {
   "cell_type": "code",
   "execution_count": null,
   "id": "fa16ecae-3bb8-4fa0-8caa-2ca9c38be1ba",
   "metadata": {},
   "outputs": [],
   "source": [
    "# Projector for each system state:\n",
    "P00 = [1 0 0; 0 0 0; 0 0 0]\n",
    "P11 = [0 0 0; 0 1 0; 0 0 0]\n",
    "P22 = [0 0 0; 0 0 0; 0 0 1]\n",
    "\n",
    "# calculate population for each system state:\n",
    "p0 = []\n",
    "p1 = []\n",
    "p2 = []\n",
    "for ados in ados_list\n",
    "    ρ = getRho(ados)  # same as ados[1]\n",
    "    push!(p0, real(tr(P00 * ρ)))\n",
    "    push!(p1, real(tr(P11 * ρ)))\n",
    "    push!(p2, real(tr(P22 * ρ)))\n",
    "end"
   ]
  },
  {
   "cell_type": "code",
   "execution_count": null,
   "id": "78a89378-9f2d-42ba-b89f-09381f936576",
   "metadata": {},
   "outputs": [],
   "source": [
    "p = plot(\n",
    "    tlist, \n",
    "    [p0, p1, p2],\n",
    "    label=[\"P0\" \"P1\" \"P2\"],\n",
    "    linecolor=[ :blue :red :green],\n",
    "    linestyle=[:solid :dot  :dash],\n",
    "    xlabel=\"time\",\n",
    "    ylabel=\"Population\",\n",
    "    fontfamily=\"Computer Modern\",\n",
    "    linewidth=2, \n",
    "    grid=false,\n",
    "    dpi=300 \n",
    ")\n",
    "\n",
    "p"
   ]
  },
  {
   "cell_type": "markdown",
   "id": "df2f467f-045e-4456-8396-1b03e0f1ea24",
   "metadata": {},
   "source": [
    "Note that this example can also be found in [qutip documentation](https://qutip.org/docs/latest/guide/heom/bosonic.html)."
   ]
  },
  {
   "cell_type": "code",
   "execution_count": null,
   "id": "8699abf5-676b-4e0c-9a75-08245f29b756",
   "metadata": {},
   "outputs": [],
   "source": []
  }
 ],
 "metadata": {
  "kernelspec": {
   "display_name": "Julia 1.8.0",
   "language": "julia",
   "name": "julia-1.8"
  },
  "language_info": {
   "file_extension": ".jl",
   "mimetype": "application/julia",
   "name": "julia",
   "version": "1.8.0"
  }
 },
 "nbformat": 4,
 "nbformat_minor": 5
}
